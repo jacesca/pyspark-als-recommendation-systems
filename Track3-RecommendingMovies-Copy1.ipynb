{
 "cells": [
  {
   "cell_type": "markdown",
   "id": "0d9f96b6-f713-43fe-a543-164a5372f1c5",
   "metadata": {},
   "source": [
    "# Recommending Movies\n",
    "\n",
    "In this track you will be introduced to the MovieLens dataset. You will walk through how to assess it's use for ALS, build out a full cross-validated ALS model on it, and learn how to evaluate it's performance. This will be the foundation for all subsequent ALS models you build using Pyspark.\n",
    "\n",
    "## Preparing the environment\n",
    "\n",
    "### Importing libraries"
   ]
  },
  {
   "cell_type": "code",
   "execution_count": 1,
   "id": "c21458f8-1acd-43a2-9cc6-306b920957ec",
   "metadata": {},
   "outputs": [],
   "source": [
    "import time\n",
    "\n",
    "from pprint import pprint\n",
    "from environment import SEED\n",
    "from pyspark.sql.types import (StructType, StructField,\n",
    "                               DoubleType, IntegerType, StringType)\n",
    "from pyspark.sql import SparkSession, functions as F\n",
    "from pyspark.ml.recommendation import ALS\n",
    "from pyspark.ml.evaluation import RegressionEvaluator\n",
    "from pyspark.ml.tuning import ParamGridBuilder, CrossValidator"
   ]
  },
  {
   "cell_type": "markdown",
   "id": "ffb12e47-14ed-4e04-bc56-4e38f659c2b3",
   "metadata": {},
   "source": [
    "### Connect to Spark"
   ]
  },
  {
   "cell_type": "code",
   "execution_count": 2,
   "id": "067fae1d-87c8-420a-9970-2287108b60f9",
   "metadata": {},
   "outputs": [
    {
     "name": "stdout",
     "output_type": "stream",
     "text": [
      "Spark version: 3.5.1\n"
     ]
    }
   ],
   "source": [
    "spark = (SparkSession.builder\n",
    "                     .master('local[*]') \\\n",
    "                     .appName('spark_application') \\\n",
    "                     .config(\"spark.sql.repl.eagerEval.enabled\", True)  # eval DataFrame in notebooks\n",
    "                     .config(\"spark.driver.memory\", \"10g\")\n",
    "                     .config(\"spark.driver.maxResultSize\", \"10G\")\n",
    "                     .getOrCreate())\n",
    "\n",
    "sc = spark.sparkContext\n",
    "sc.setSystemProperty('spark.executor.memory', '10G')\n",
    "sc.setCheckpointDir(\"ml-checkpoint/\")\n",
    "\n",
    "print(f'Spark version: {spark.version}')"
   ]
  },
  {
   "cell_type": "code",
   "execution_count": 3,
   "id": "a725dc5b-c397-402c-aaed-0159c162353a",
   "metadata": {},
   "outputs": [
    {
     "name": "stdout",
     "output_type": "stream",
     "text": [
      "Current driver memory: 10g\n",
      "Current number of partitions: 200\n"
     ]
    }
   ],
   "source": [
    "# Review current configuration\n",
    "print(f\"Current driver memory: {spark.conf.get('spark.driver.memory')}\")\n",
    "print(f\"Current number of partitions: {spark.conf.get('spark.sql.shuffle.partitions')}\")"
   ]
  },
  {
   "cell_type": "markdown",
   "id": "18ea8ed5-a73b-4a7f-9587-9dff5833f1d9",
   "metadata": {},
   "source": [
    "## Loading data\n",
    "\n",
    "### Links"
   ]
  },
  {
   "cell_type": "code",
   "execution_count": 4,
   "id": "8bc1cfb4-8894-421a-a5c4-7eedcda4f1df",
   "metadata": {},
   "outputs": [
    {
     "name": "stdout",
     "output_type": "stream",
     "text": [
      "Dataframe shape: (87585, 3)\n",
      "root\n",
      " |-- movieId: integer (nullable = true)\n",
      " |-- imdbId: string (nullable = true)\n",
      " |-- tmdbId: integer (nullable = true)\n",
      "\n"
     ]
    },
    {
     "data": {
      "text/html": [
       "<table border='1'>\n",
       "<tr><th>movieId</th><th>imdbId</th><th>tmdbId</th></tr>\n",
       "<tr><td>1</td><td>0114709</td><td>862</td></tr>\n",
       "<tr><td>2</td><td>0113497</td><td>8844</td></tr>\n",
       "</table>\n"
      ],
      "text/plain": [
       "+-------+-------+------+\n",
       "|movieId| imdbId|tmdbId|\n",
       "+-------+-------+------+\n",
       "|      1|0114709|   862|\n",
       "|      2|0113497|  8844|\n",
       "+-------+-------+------+"
      ]
     },
     "execution_count": 4,
     "metadata": {},
     "output_type": "execute_result"
    }
   ],
   "source": [
    "# Reading the file\n",
    "schema_links = StructType([\n",
    "    StructField(\"movieId\", IntegerType()),\n",
    "    StructField(\"imdbId\", StringType()),\n",
    "    StructField(\"tmdbId\", IntegerType())\n",
    "])\n",
    "links_data = spark.read.csv('data-sources/movies/links.csv', header=True, schema=schema_links)\n",
    "\n",
    "# Reviewing the result\n",
    "links_data.createOrReplaceTempView(\"links\")\n",
    "print(f'Dataframe shape: ({links_data.count()}, {len(links_data.columns)})')\n",
    "links_data.printSchema()\n",
    "links_data.limit(2)"
   ]
  },
  {
   "cell_type": "markdown",
   "id": "8c67a5b2-37f5-4cbb-bab5-f412f86b07b0",
   "metadata": {},
   "source": [
    "### Movies"
   ]
  },
  {
   "cell_type": "code",
   "execution_count": 5,
   "id": "69d12db7-04bc-4be2-8175-b16903430dd0",
   "metadata": {},
   "outputs": [
    {
     "name": "stdout",
     "output_type": "stream",
     "text": [
      "Dataframe shape: (87585, 3)\n",
      "root\n",
      " |-- movieId: integer (nullable = true)\n",
      " |-- title: string (nullable = true)\n",
      " |-- genres: string (nullable = true)\n",
      "\n"
     ]
    },
    {
     "data": {
      "text/html": [
       "<table border='1'>\n",
       "<tr><th>movieId</th><th>title</th><th>genres</th></tr>\n",
       "<tr><td>1</td><td>Toy Story (1995)</td><td>Adventure|Animati...</td></tr>\n",
       "<tr><td>2</td><td>Jumanji (1995)</td><td>Adventure|Childre...</td></tr>\n",
       "</table>\n"
      ],
      "text/plain": [
       "+-------+----------------+--------------------+\n",
       "|movieId|           title|              genres|\n",
       "+-------+----------------+--------------------+\n",
       "|      1|Toy Story (1995)|Adventure|Animati...|\n",
       "|      2|  Jumanji (1995)|Adventure|Childre...|\n",
       "+-------+----------------+--------------------+"
      ]
     },
     "execution_count": 5,
     "metadata": {},
     "output_type": "execute_result"
    }
   ],
   "source": [
    "# Reading the file\n",
    "schema_movies = StructType([\n",
    "    StructField(\"movieId\", IntegerType()),\n",
    "    StructField(\"title\", StringType()),\n",
    "    StructField(\"genres\", StringType())\n",
    "])\n",
    "movies_data = spark.read.csv('data-sources/movies/movies.csv', header=True, schema=schema_movies)\n",
    "\n",
    "# Reviewing the result\n",
    "movies_data.createOrReplaceTempView(\"movies\")\n",
    "print(f'Dataframe shape: ({movies_data.count()}, {len(movies_data.columns)})')\n",
    "movies_data.printSchema()\n",
    "movies_data.limit(2)"
   ]
  },
  {
   "cell_type": "markdown",
   "id": "75095ada-7238-49c9-9dd3-e1a89eea4497",
   "metadata": {},
   "source": [
    "### Ratings"
   ]
  },
  {
   "cell_type": "code",
   "execution_count": 21,
   "id": "33215eb1-d042-42f3-930a-494d386716cf",
   "metadata": {},
   "outputs": [
    {
     "name": "stdout",
     "output_type": "stream",
     "text": [
      "Dataframe shape: (32000204, 4)\n",
      "root\n",
      " |-- userId: integer (nullable = true)\n",
      " |-- movieId: integer (nullable = true)\n",
      " |-- rating: double (nullable = true)\n",
      " |-- timestamp: integer (nullable = true)\n",
      "\n"
     ]
    },
    {
     "data": {
      "text/html": [
       "<table border='1'>\n",
       "<tr><th>userId</th><th>movieId</th><th>rating</th><th>timestamp</th></tr>\n",
       "<tr><td>1</td><td>17</td><td>4.0</td><td>944249077</td></tr>\n",
       "<tr><td>1</td><td>25</td><td>1.0</td><td>944250228</td></tr>\n",
       "</table>\n"
      ],
      "text/plain": [
       "+------+-------+------+---------+\n",
       "|userId|movieId|rating|timestamp|\n",
       "+------+-------+------+---------+\n",
       "|     1|     17|   4.0|944249077|\n",
       "|     1|     25|   1.0|944250228|\n",
       "+------+-------+------+---------+"
      ]
     },
     "execution_count": 21,
     "metadata": {},
     "output_type": "execute_result"
    }
   ],
   "source": [
    "# Reading the file\n",
    "schema_ratings = StructType([\n",
    "    StructField(\"userId\", IntegerType()),\n",
    "    StructField(\"movieId\", IntegerType()),\n",
    "    StructField(\"rating\", DoubleType()),\n",
    "    StructField(\"timestamp\", IntegerType())\n",
    "])\n",
    "ratings_data = spark.read.csv('data-sources/movies/ratings.csv', header=True, schema=schema_ratings)\n",
    "\n",
    "# # Cleaning and mutating some columns\n",
    "# ratings_data = ratings_data.withColumn('timestamp', F.to_timestamp(F.from_unixtime('timestamp')))\n",
    "# date_range = ratings_data.select('timestamp').agg(F.min('timestamp'), F.max('timestamp')).collect()[0]\n",
    "# print(f\"Date range: {date_range[0]} - {date_range[1]}\")\n",
    "\n",
    "# # Taking just last month\n",
    "# ratings_data = ratings_data.where('timestamp >= \"2023-01-01\"')\n",
    "\n",
    "# Reviewing the result\n",
    "ratings_data.createOrReplaceTempView(\"ratings\")\n",
    "print(f'Dataframe shape: ({ratings_data.count()}, {len(ratings_data.columns)})')\n",
    "ratings_data.printSchema()\n",
    "ratings_data.limit(2)"
   ]
  },
  {
   "cell_type": "code",
   "execution_count": 22,
   "id": "d4418b01-03df-4e5f-840d-62fa5984389e",
   "metadata": {},
   "outputs": [],
   "source": [
    "ratings_data.write.option(\"maxRecordsPerFile\", 1000000).csv('spark-warehouse/ratings-new.csv', header=True, mode=\"overwrite\")"
   ]
  },
  {
   "cell_type": "markdown",
   "id": "b16e1e24-0945-4834-a483-8b542de864ae",
   "metadata": {},
   "source": [
    "### Tags"
   ]
  },
  {
   "cell_type": "code",
   "execution_count": 23,
   "id": "fa955bf1-1051-40df-b2c9-f809ee134fd1",
   "metadata": {},
   "outputs": [
    {
     "name": "stdout",
     "output_type": "stream",
     "text": [
      "Dataframe shape: (2000072, 4)\n",
      "root\n",
      " |-- userId: integer (nullable = true)\n",
      " |-- movieId: integer (nullable = true)\n",
      " |-- tag: string (nullable = true)\n",
      " |-- timestamp: integer (nullable = true)\n",
      "\n"
     ]
    },
    {
     "data": {
      "text/html": [
       "<table border='1'>\n",
       "<tr><th>userId</th><th>movieId</th><th>tag</th><th>timestamp</th></tr>\n",
       "<tr><td>22</td><td>26479</td><td>Kevin Kline</td><td>1583038886</td></tr>\n",
       "<tr><td>22</td><td>79592</td><td>misogyny</td><td>1581476297</td></tr>\n",
       "</table>\n"
      ],
      "text/plain": [
       "+------+-------+-----------+----------+\n",
       "|userId|movieId|        tag| timestamp|\n",
       "+------+-------+-----------+----------+\n",
       "|    22|  26479|Kevin Kline|1583038886|\n",
       "|    22|  79592|   misogyny|1581476297|\n",
       "+------+-------+-----------+----------+"
      ]
     },
     "execution_count": 23,
     "metadata": {},
     "output_type": "execute_result"
    }
   ],
   "source": [
    "# Reading the file\n",
    "schema_tags = StructType([\n",
    "    StructField(\"userId\", IntegerType()),\n",
    "    StructField(\"movieId\", IntegerType()),\n",
    "    StructField(\"tag\", StringType()),\n",
    "    StructField(\"timestamp\", IntegerType())\n",
    "])\n",
    "tags_data = spark.read.csv('data-sources/movies/tags.csv', header=True, schema=schema_tags)\n",
    "\n",
    "# # Cleaning and mutating some columns\n",
    "# tags_data = tags_data.withColumn('timestamp', F.to_timestamp(F.from_unixtime('timestamp')))\n",
    "\n",
    "# Reviewing the result\n",
    "tags_data.createOrReplaceTempView(\"tags\")\n",
    "print(f'Dataframe shape: ({tags_data.count()}, {len(tags_data.columns)})')\n",
    "tags_data.printSchema()\n",
    "tags_data.limit(2)"
   ]
  },
  {
   "cell_type": "code",
   "execution_count": 24,
   "id": "c06835bf-9635-46fe-bedb-1128110395d2",
   "metadata": {},
   "outputs": [],
   "source": [
    "# tags_data = tags_data.sample(False, .5, 42)\n",
    "tags_data.write.option(\"maxRecordsPerFile\", 1000000).csv('spark-warehouse/tags-new.csv', header=True, mode=\"overwrite\")"
   ]
  },
  {
   "cell_type": "markdown",
   "id": "d79709f1-ff5e-4b2b-8168-a273730bb43f",
   "metadata": {},
   "source": [
    "### Tables catalogue"
   ]
  },
  {
   "cell_type": "code",
   "execution_count": 8,
   "id": "544d8bd5-3e6f-4f7c-9f51-c4cee7a56df8",
   "metadata": {},
   "outputs": [
    {
     "data": {
      "text/plain": [
       "[Table(name='links', catalog=None, namespace=[], description=None, tableType='TEMPORARY', isTemporary=True),\n",
       " Table(name='movies', catalog=None, namespace=[], description=None, tableType='TEMPORARY', isTemporary=True),\n",
       " Table(name='ratings', catalog=None, namespace=[], description=None, tableType='TEMPORARY', isTemporary=True),\n",
       " Table(name='tags', catalog=None, namespace=[], description=None, tableType='TEMPORARY', isTemporary=True)]"
      ]
     },
     "execution_count": 8,
     "metadata": {},
     "output_type": "execute_result"
    }
   ],
   "source": [
    "spark.catalog.listTables()"
   ]
  },
  {
   "cell_type": "markdown",
   "id": "cd1cf604-25e8-42ff-992c-44a6099b0c27",
   "metadata": {},
   "source": [
    "# Content\n",
    "\n",
    "## Introduction to the MovieLens dataset\n",
    "\n",
    "### MovieLens sparsity\n",
    "\n",
    "To measure how sparse is the data.\n",
    "$$ Sparcity = 1 - \\frac{Number Of Ratings In Matrix}{Number Of Users \\times Number Of Movies} $$"
   ]
  },
  {
   "cell_type": "code",
   "execution_count": 9,
   "id": "2755e0dd-5352-4bff-8e8e-0d6afa7553ec",
   "metadata": {},
   "outputs": [
    {
     "name": "stdout",
     "output_type": "stream",
     "text": [
      "+------+-------+------+-------------------+\n",
      "|userId|movieId|rating|          timestamp|\n",
      "+------+-------+------+-------------------+\n",
      "|    28|   7458|   3.5|2023-09-22 12:42:52|\n",
      "|    28| 285593|   3.0|2023-09-22 21:20:05|\n",
      "|    28| 291485|   4.0|2023-10-03 21:46:29|\n",
      "+------+-------+------+-------------------+\n",
      "only showing top 3 rows\n",
      "\n",
      "\n",
      "Unique users in:\n",
      "ratings: 2583\n",
      "   tags: 15848\n",
      "\n",
      "Columns with nulls:\n",
      "{}\n"
     ]
    }
   ],
   "source": [
    "# Exploring the data\n",
    "ratings_df = ratings_data.select('*')\n",
    "ratings_df.show(3)\n",
    "\n",
    "print(f'''\n",
    "Unique users in:\n",
    "ratings: {ratings_df.select('userId').distinct().count()}\n",
    "   tags: {tags_data.select('userId').distinct().count()}\n",
    "''')\n",
    "\n",
    "# Finding columns with nulls\n",
    "Dict_Null = {col: ratings_df.filter(ratings_df[f\"`{col}`\"].isNull()).count() for col in ratings_df.columns}\n",
    "Dict_Null = {k: v for k, v in Dict_Null.items() if v != 0}\n",
    "print('Columns with nulls:')\n",
    "pprint(Dict_Null)"
   ]
  },
  {
   "cell_type": "code",
   "execution_count": 10,
   "id": "2efffcac-a10c-4bb1-9d11-1955e8aabc94",
   "metadata": {},
   "outputs": [
    {
     "name": "stdout",
     "output_type": "stream",
     "text": [
      "MovieLens Sparsity: 0.9975261125560048\n"
     ]
    }
   ],
   "source": [
    "# Calculating MovieLens sparsity\n",
    "number_of_ratings = ratings_df.count()\n",
    "number_of_users = ratings_df.select('userId').distinct().count()\n",
    "number_of_movies = ratings_df.select('movieId').distinct().count()\n",
    "\n",
    "sparsity = 1 - (number_of_ratings / (number_of_users * number_of_movies))\n",
    "print('MovieLens Sparsity:', sparsity)"
   ]
  },
  {
   "cell_type": "code",
   "execution_count": 11,
   "id": "07c19c19-ecba-4b1b-950c-4d54aa9e85f1",
   "metadata": {},
   "outputs": [
    {
     "name": "stdout",
     "output_type": "stream",
     "text": [
      "+------+-----+\n",
      "|userId|count|\n",
      "+------+-----+\n",
      "|108029| 2106|\n",
      "|  3135| 1908|\n",
      "|127521| 1906|\n",
      "|141567| 1565|\n",
      "|118615| 1537|\n",
      "|159298| 1399|\n",
      "|  6587| 1333|\n",
      "|193877| 1139|\n",
      "|169558| 1103|\n",
      "|183401| 1062|\n",
      "+------+-----+\n",
      "only showing top 10 rows\n",
      "\n",
      "+----------+----------+------------------+\n",
      "|min(count)|max(count)|        avg(count)|\n",
      "+----------+----------+------------------+\n",
      "|         1|      2106|35.708091366627954|\n",
      "+----------+----------+------------------+\n",
      "\n",
      "+------+-----+\n",
      "|userId|count|\n",
      "+------+-----+\n",
      "|  6654|   48|\n",
      "|  9914|  340|\n",
      "|   784|  355|\n",
      "|  8986|   41|\n",
      "|  7122|   51|\n",
      "+------+-----+\n",
      "only showing top 5 rows\n",
      "\n"
     ]
    }
   ],
   "source": [
    "# Number of ratins provided by users (top 10)\n",
    "ratings_df.groupby('userId').count().sort(F.col('count').desc()).show(10)\n",
    "\n",
    "# Minumum, maximum, average ratings provided per user\n",
    "ratings_df.groupby('userId').count().select(\n",
    "    F.min('count'), F.max('count'), F.avg('count')\n",
    ").show()\n",
    "\n",
    "# Removes user with less than 20 ratings\n",
    "ratings_df.groupby('userId').count().filter(F.col('count')>=20).show(5)"
   ]
  },
  {
   "cell_type": "code",
   "execution_count": 12,
   "id": "27593048-a8c9-4fe7-be3c-1b1b628a3c4a",
   "metadata": {},
   "outputs": [
    {
     "name": "stdout",
     "output_type": "stream",
     "text": [
      "+------+-------+------+-------------------+\n",
      "|userId|movieId|rating|          timestamp|\n",
      "+------+-------+------+-------------------+\n",
      "|    79|  61132|   3.0|2023-09-12 11:05:17|\n",
      "|    79| 111759|   5.0|2023-09-12 11:04:52|\n",
      "|    79| 281864|   3.5|2023-09-12 11:05:03|\n",
      "+------+-------+------+-------------------+\n",
      "\n"
     ]
    }
   ],
   "source": [
    "# A silly example to show multiple filters\n",
    "ratings_df.filter((F.col('userId') < 100) & (F.col('userId') > 50)).show()"
   ]
  },
  {
   "cell_type": "markdown",
   "id": "56c4c8ce-e5b6-4508-a8bc-459d4f9fc0d5",
   "metadata": {},
   "source": [
    "### Ex. 1 - MovieLens Summary Statistics\n",
    "\n",
    "Let's take the `groupBy()` method a bit further.\n",
    "\n",
    "Once you've applied the `.groupBy()` method to a dataframe, you can subsequently run aggregate functions such as `.sum()`, `.avg()`, `.min()` and have the results grouped. \n",
    "\n",
    "**Instructions:**\n",
    "\n",
    "1. Group the data by `movieId` and use the `.count()` method to calculate how many ratings each movie has received. From there, call the `.select()` method to select the following metrics:\n",
    "    - `min(\"count\")` to get the smallest number of ratings that any movie in the dataset. \n",
    "    - `avg(\"count\")` to get the average number of ratings per movie\n",
    "2. Do the same thing, but this time group by `userId` to get the min and avg number of ratings."
   ]
  },
  {
   "cell_type": "code",
   "execution_count": 13,
   "id": "6bf5ef9b-05ff-458c-818a-698a9c00fd90",
   "metadata": {},
   "outputs": [
    {
     "name": "stdout",
     "output_type": "stream",
     "text": [
      "Movie with the fewest ratings: \n",
      "+----------+\n",
      "|min(count)|\n",
      "+----------+\n",
      "|         1|\n",
      "+----------+\n",
      "\n",
      "Avg num ratings per movie: \n",
      "+-----------------+\n",
      "|       avg(count)|\n",
      "+-----------------+\n",
      "|6.390051267839823|\n",
      "+-----------------+\n",
      "\n",
      "User with the fewest ratings: \n",
      "+----------+\n",
      "|min(count)|\n",
      "+----------+\n",
      "|         1|\n",
      "+----------+\n",
      "\n",
      "Avg num ratings per user: \n",
      "+------------------+\n",
      "|        avg(count)|\n",
      "+------------------+\n",
      "|35.708091366627954|\n",
      "+------------------+\n",
      "\n"
     ]
    }
   ],
   "source": [
    "# Min num ratings for movies\n",
    "print(\"Movie with the fewest ratings: \")\n",
    "ratings_df.groupBy(\"movieId\").count().select(F.min(\"count\")).show()\n",
    "\n",
    "# Avg num ratings per movie\n",
    "print(\"Avg num ratings per movie: \")\n",
    "ratings_df.groupBy(\"movieId\").count().select(F.avg(\"count\")).show()\n",
    "\n",
    "# Min num ratings for user\n",
    "print(\"User with the fewest ratings: \")\n",
    "ratings_df.groupBy(\"userId\").count().select(F.min(\"count\")).show()\n",
    "\n",
    "# Avg num ratings per users\n",
    "print(\"Avg num ratings per user: \")\n",
    "ratings_df.groupBy(\"userId\").count().select(F.avg(\"count\")).show()"
   ]
  },
  {
   "cell_type": "markdown",
   "id": "34ac25fc-58a9-4d89-aa76-f268fa93a63f",
   "metadata": {},
   "source": [
    "## ALS model buildout on MovieLens Data\n",
    "\n",
    "### ParamGrid and CrossValidation"
   ]
  },
  {
   "cell_type": "code",
   "execution_count": 14,
   "id": "5566ec7c-5a0b-4135-931b-1f8c20fd41d7",
   "metadata": {},
   "outputs": [
    {
     "name": "stdout",
     "output_type": "stream",
     "text": [
      "Training set: 73917, Testing set: 18317\n"
     ]
    }
   ],
   "source": [
    "# Load the data\n",
    "ratings_df = ratings_data.select('*').repartition(5)\n",
    "\n",
    "# Split into train and test set.\n",
    "ratings_df_train, ratings_df_test = ratings_df.randomSplit([0.8, 0.2], seed=SEED)\n",
    "print(f\"Training set: {ratings_df_train.count()}, Testing set: {ratings_df_test.count()}\")\n",
    "\n",
    "# Build ALS model\n",
    "als_model = ALS(userCol=\"userId\", itemCol=\"movieId\", ratingCol=\"rating\",\n",
    "                nonnegative=True, coldStartStrategy=\"drop\", implicitPrefs=False)\n",
    "\n",
    "# Define the evaluator\n",
    "evaluator = RegressionEvaluator(labelCol=\"rating\")"
   ]
  },
  {
   "cell_type": "code",
   "execution_count": 15,
   "id": "9b6ab095-afde-4e3c-9b45-286dc99df618",
   "metadata": {},
   "outputs": [
    {
     "name": "stdout",
     "output_type": "stream",
     "text": [
      "Number of models to be tested:  12\n"
     ]
    }
   ],
   "source": [
    "# Creates a ParamGridBuilder\n",
    "param_grid = (ParamGridBuilder().addGrid(als_model.rank, [10, 25, 40])\n",
    "                                .addGrid(als_model.maxIter, [10, 50])\n",
    "                                .addGrid(als_model.regParam, [.05, .1])\n",
    "                                .build())\n",
    "print('Number of models to be tested: ', len(param_grid))\n",
    "\n",
    "# Creates cross validator\n",
    "cv = CrossValidator(estimator = als_model,\n",
    "                    estimatorParamMaps = param_grid,\n",
    "                    evaluator = evaluator,\n",
    "                    numFolds = 5)"
   ]
  },
  {
   "cell_type": "code",
   "execution_count": 16,
   "id": "9641882b-01e5-4ac3-bf60-2a785f33d08d",
   "metadata": {},
   "outputs": [
    {
     "name": "stdout",
     "output_type": "stream",
     "text": [
      "\n",
      "Best Model: \n",
      "ALSModel: uid=ALS_9d9cea6c787c, rank=40\n",
      "\n",
      "What's the cross-validated RMSE for each model? \n",
      "[0.9919127949753592, 0.9336891571518917, 0.9864765605851892, 0.931628367682816, 1.0013689891006963, 0.9304171413639495, 0.9752693941316191, 0.9283925967379677, 1.001741585181454, 0.9306970716279516, 0.9671780175431101, 0.9266830257173287]\n",
      "\n",
      "Consumed time: 8.416968246301016 min\n",
      "\n"
     ]
    }
   ],
   "source": [
    "# Run the cv on the training data\n",
    "start = time.time()\n",
    "cv = cv.fit(ratings_df_train)\n",
    "\n",
    "# Extract best combination of values from cross validation\n",
    "best_model = cv.bestModel\n",
    "print(f'''\n",
    "Best Model: \n",
    "{best_model}\n",
    "\n",
    "What's the cross-validated RMSE for each model? \n",
    "{cv.avgMetrics}\n",
    "\n",
    "Consumed time: {(time.time() - start)/60} min\n",
    "''')"
   ]
  },
  {
   "cell_type": "code",
   "execution_count": 17,
   "id": "7a2dfb0a-e016-46a3-86a7-e171c0a219da",
   "metadata": {},
   "outputs": [
    {
     "name": "stdout",
     "output_type": "stream",
     "text": [
      "\n",
      "Best Model:\n",
      "    RMSE                        : 0.9113285839250678\n",
      "    Rank                        : 40\n",
      "    Rank (Another way to get it): 40\n",
      "    MaxIter                     : 50\n",
      "    RegParam                    : 0.1\n",
      "\n"
     ]
    }
   ],
   "source": [
    "# Generate test set predictions and evaluate using RMSE\n",
    "df_predictions = best_model.transform(ratings_df_test) \n",
    "rmse = evaluator.evaluate(df_predictions)\n",
    "\n",
    "# Print evaluation metrics and model parameters\n",
    "print(f'''\n",
    "Best Model:\n",
    "    RMSE                        : {rmse}\n",
    "    Rank                        : {best_model.rank}\n",
    "    Rank (Another way to get it): {best_model._java_obj.parent().getRank()}\n",
    "    MaxIter                     : {best_model._java_obj.parent().getMaxIter()}\n",
    "    RegParam                    : {best_model._java_obj.parent().getRegParam()}\n",
    "''')"
   ]
  },
  {
   "cell_type": "markdown",
   "id": "7d1a85af-2f89-4d34-bdff-5003af69d03f",
   "metadata": {},
   "source": [
    "## Model Performance Evaluation\n",
    "\n",
    "### Recommend for all users"
   ]
  },
  {
   "cell_type": "code",
   "execution_count": 18,
   "id": "9d7c98e8-0214-4d47-b5e8-c37161a3ecab",
   "metadata": {},
   "outputs": [
    {
     "name": "stdout",
     "output_type": "stream",
     "text": [
      "+------+--------------------+\n",
      "|userId|     recommendations|\n",
      "+------+--------------------+\n",
      "|   458|[{215171, 4.81490...|\n",
      "|  1199|[{1916, 3.505082}...|\n",
      "|  4859|[{104879, 4.19958...|\n",
      "|  5217|[{290789, 3.90096...|\n",
      "|  6654|[{165969, 4.13924...|\n",
      "|  9914|[{292241, 5.16510...|\n",
      "| 10090|[{231701, 4.24253...|\n",
      "| 11642|[{201863, 5.51226...|\n",
      "| 14556|[{170705, 4.51296...|\n",
      "| 15968|[{292241, 4.04884...|\n",
      "+------+--------------------+\n",
      "only showing top 10 rows\n",
      "\n"
     ]
    }
   ],
   "source": [
    "# Generate top n=10 recommendations for all users\n",
    "top_recommendations = best_model.recommendForAllUsers(50)\n",
    "top_recommendations.show(10, truncate=True)"
   ]
  },
  {
   "cell_type": "code",
   "execution_count": 19,
   "id": "ca7e1ee7-a4ca-4507-ac9c-20536b3ce03f",
   "metadata": {},
   "outputs": [
    {
     "data": {
      "text/plain": [
       "[Row(userId=458, recommendations=[Row(movieId=215171, rating=4.814901828765869), Row(movieId=198185, rating=4.7287163734436035), Row(movieId=139195, rating=4.715865135192871), Row(movieId=140713, rating=4.601424694061279), Row(movieId=110281, rating=4.60083532333374), Row(movieId=85312, rating=4.592772006988525), Row(movieId=268438, rating=4.584874629974365), Row(movieId=103057, rating=4.576087951660156), Row(movieId=123, rating=4.5615973472595215), Row(movieId=3224, rating=4.543295383453369), Row(movieId=292241, rating=4.519752502441406), Row(movieId=7505, rating=4.504077911376953), Row(movieId=223876, rating=4.473747253417969), Row(movieId=214955, rating=4.468325614929199), Row(movieId=170705, rating=4.465029716491699), Row(movieId=27523, rating=4.450263977050781), Row(movieId=159817, rating=4.4488043785095215), Row(movieId=50594, rating=4.444928169250488), Row(movieId=73808, rating=4.441458225250244), Row(movieId=109364, rating=4.436191558837891), Row(movieId=231701, rating=4.420706748962402), Row(movieId=27156, rating=4.420385837554932), Row(movieId=668, rating=4.41929817199707), Row(movieId=1041, rating=4.413041114807129), Row(movieId=117438, rating=4.412503242492676), Row(movieId=5690, rating=4.407381057739258), Row(movieId=3551, rating=4.401593208312988), Row(movieId=30803, rating=4.399789333343506), Row(movieId=3677, rating=4.388949394226074), Row(movieId=27397, rating=4.3874592781066895), Row(movieId=1748, rating=4.3819708824157715), Row(movieId=52952, rating=4.376965045928955), Row(movieId=6818, rating=4.369290351867676), Row(movieId=6669, rating=4.366835117340088), Row(movieId=8772, rating=4.366674423217773), Row(movieId=2131, rating=4.366260528564453), Row(movieId=1192, rating=4.366171836853027), Row(movieId=720, rating=4.360989093780518), Row(movieId=26326, rating=4.357041358947754), Row(movieId=199866, rating=4.353748798370361), Row(movieId=141812, rating=4.3478875160217285), Row(movieId=2160, rating=4.346019268035889), Row(movieId=3262, rating=4.345798492431641), Row(movieId=196067, rating=4.344827175140381), Row(movieId=31364, rating=4.343677520751953), Row(movieId=288773, rating=4.34330415725708), Row(movieId=131724, rating=4.340206146240234), Row(movieId=60609, rating=4.337924957275391), Row(movieId=165969, rating=4.337197780609131), Row(movieId=116897, rating=4.336181640625)])]"
      ]
     },
     "execution_count": 19,
     "metadata": {},
     "output_type": "execute_result"
    }
   ],
   "source": [
    "# Reviewing in detail the content of recommendations column\n",
    "top_recommendations.limit(1).collect()"
   ]
  },
  {
   "cell_type": "markdown",
   "id": "01a719cf-8b5c-4bbb-84e9-19b3452be7c5",
   "metadata": {},
   "source": [
    "### Cleaning up recommendation output"
   ]
  },
  {
   "cell_type": "code",
   "execution_count": 20,
   "id": "99da64bb-f056-4a70-b3d1-fa0a694c12bb",
   "metadata": {},
   "outputs": [
    {
     "data": {
      "text/plain": [
       "[Table(name='links', catalog=None, namespace=[], description=None, tableType='TEMPORARY', isTemporary=True),\n",
       " Table(name='movies', catalog=None, namespace=[], description=None, tableType='TEMPORARY', isTemporary=True),\n",
       " Table(name='ratings', catalog=None, namespace=[], description=None, tableType='TEMPORARY', isTemporary=True),\n",
       " Table(name='tags', catalog=None, namespace=[], description=None, tableType='TEMPORARY', isTemporary=True),\n",
       " Table(name='top_recommendations', catalog=None, namespace=[], description=None, tableType='TEMPORARY', isTemporary=True)]"
      ]
     },
     "execution_count": 20,
     "metadata": {},
     "output_type": "execute_result"
    }
   ],
   "source": [
    "top_recommendations.createOrReplaceTempView(\"top_recommendations\")\n",
    "spark.catalog.listTables()"
   ]
  },
  {
   "cell_type": "code",
   "execution_count": 21,
   "id": "a0565937-3480-494b-a359-ffb45e1538f5",
   "metadata": {},
   "outputs": [
    {
     "name": "stdout",
     "output_type": "stream",
     "text": [
      "+------+-------+--------------+\n",
      "|userId|movieId|recommendation|\n",
      "+------+-------+--------------+\n",
      "|   458| 215171|      4.814902|\n",
      "|   458| 198185|     4.7287164|\n",
      "|   458| 139195|      4.715865|\n",
      "+------+-------+--------------+\n",
      "only showing top 3 rows\n",
      "\n"
     ]
    }
   ],
   "source": [
    "clean_recommendation = spark.sql(\"\"\"\n",
    "    SELECT userId, \n",
    "           movieIds_and_ratings.movieId AS movieId,\n",
    "           movieIds_and_ratings.rating AS recommendation\n",
    "    FROM top_recommendations\n",
    "    LATERAL VIEW explode(recommendations) exploded_table AS movieIds_and_ratings\n",
    "\"\"\")\n",
    "clean_recommendation.show(3)"
   ]
  },
  {
   "cell_type": "code",
   "execution_count": 22,
   "id": "d5921aef-f170-42e9-a1db-762348527989",
   "metadata": {},
   "outputs": [
    {
     "name": "stdout",
     "output_type": "stream",
     "text": [
      "+------+-------------------+\n",
      "|userId|MovieRecommendation|\n",
      "+------+-------------------+\n",
      "|   458| {215171, 4.814902}|\n",
      "|   458|{198185, 4.7287164}|\n",
      "|   458| {139195, 4.715865}|\n",
      "+------+-------------------+\n",
      "only showing top 3 rows\n",
      "\n"
     ]
    }
   ],
   "source": [
    "# Reviewing in detail - Explode function\n",
    "temp_df = spark.sql(\"\"\"\n",
    "    SELECT userId, \n",
    "           explode(recommendations) AS MovieRecommendation\n",
    "    FROM top_recommendations\n",
    "\"\"\")\n",
    "temp_df.show(3)"
   ]
  },
  {
   "cell_type": "code",
   "execution_count": 23,
   "id": "b8c05b70-4f91-47cd-9b04-8fdf7e8a302a",
   "metadata": {},
   "outputs": [
    {
     "data": {
      "text/plain": [
       "[Row(userId=458, MovieRecommendation=Row(movieId=215171, rating=4.814901828765869))]"
      ]
     },
     "execution_count": 23,
     "metadata": {},
     "output_type": "execute_result"
    }
   ],
   "source": [
    "# Reviewing in detail the column `MovieRecommendation`\n",
    "temp_df.limit(1).collect()"
   ]
  },
  {
   "cell_type": "markdown",
   "id": "48e15dfc-9f2e-4c0e-9913-b3e7f169b75e",
   "metadata": {},
   "source": [
    "### Adding Movie Title and Rating to discard already seen movies"
   ]
  },
  {
   "cell_type": "code",
   "execution_count": 24,
   "id": "b39ad35d-405d-4fac-9a2c-6a629f8a5c53",
   "metadata": {},
   "outputs": [
    {
     "name": "stdout",
     "output_type": "stream",
     "text": [
      "+------+-------+--------------+------+-----------------------------------------------+--------------------------------------------+\n",
      "|userId|movieId|recommendation|rating|genres                                         |title                                       |\n",
      "+------+-------+--------------+------+-----------------------------------------------+--------------------------------------------+\n",
      "|26796 |7361   |4.465444      |5.0   |Drama|Romance|Sci-Fi                           |Eternal Sunshine of the Spotless Mind (2004)|\n",
      "|175758|79132  |4.5281725     |5.0   |Action|Crime|Drama|Mystery|Sci-Fi|Thriller|IMAX|Inception (2010)                            |\n",
      "|56264 |3503   |4.0673265     |4.5   |Drama|Mystery|Sci-Fi                           |Solaris (Solyaris) (1972)                   |\n",
      "+------+-------+--------------+------+-----------------------------------------------+--------------------------------------------+\n",
      "only showing top 3 rows\n",
      "\n"
     ]
    }
   ],
   "source": [
    "clean_recommendation = (clean_recommendation.join(movies_data, 'movieId', 'left')\n",
    "                                            .join(ratings_df.drop('timestamp'), ['userId', 'movieId'], 'left')\n",
    "                                            .filter('rating IS NOT NULL')\n",
    "                                            .select('userId', 'movieId', 'recommendation', 'rating',\n",
    "                                                    'genres', 'title'))\n",
    "clean_recommendation.show(3, truncate=False)"
   ]
  },
  {
   "cell_type": "markdown",
   "id": "bf54c9bd-35af-4e1b-8ced-a3f56ecf9fda",
   "metadata": {},
   "source": [
    "## Ex. 2 - Do recommendations make sense\n",
    "\n",
    "Now that we have an understanding of how well our model performed, and have some confidence that it will provide recommendations that are relevant to users, let's actually look at recommendations made to a user and see if they make sense.\n",
    "\n",
    "The original ratings data is provided here as original_ratings. Take a look at user 73645 and user 79563's original ratings, and compare them to what ALS recommended for them. In your opinion, are the recommendations consistent with their original preferences?\n",
    "\n",
    "**Instructions:**\n",
    "\n",
    "1. Use the `.filter()` on the original ratings dataframe to ensure that `col(\"userId\")` equals `73645` to look at user `73645`'s original ratings. Call the `.sort()` method to sort the output by rating and set the `ascending` argument to `False` to see the highest ratings first.\n",
    "2. Use the `.filter()` and `.show()` methods on the recommendations dataset to look at user `73645`'s ratings. Note that when ALS generates recommendations, they are provided in descending order by `userId`, so there's no need to sort the dataframe.\n",
    "3. Do the same thing for user `79563`.\n",
    "4. Do the recommendation genres have some consistency with each user's original ratings?"
   ]
  },
  {
   "cell_type": "code",
   "execution_count": 25,
   "id": "63fe1adc-7c86-4b34-92d0-43a28c4b35b5",
   "metadata": {},
   "outputs": [
    {
     "name": "stdout",
     "output_type": "stream",
     "text": [
      "User 73645's Ratings:\n",
      "+------+-------+------+-------------------+\n",
      "|userId|movieId|rating|          timestamp|\n",
      "+------+-------+------+-------------------+\n",
      "| 73645| 287699|   4.5|2023-09-13 20:13:52|\n",
      "| 73645| 136445|   1.0|2023-09-13 20:29:23|\n",
      "+------+-------+------+-------------------+\n",
      "\n",
      "User 73645's Recommendations:\n",
      "+------+-------+--------------+------+------+------------------+\n",
      "|userId|movieId|recommendation|rating|genres|title             |\n",
      "+------+-------+--------------+------+------+------------------+\n",
      "|73645 |287699 |4.2920156     |4.5   |Drama |Oppenheimer (2023)|\n",
      "+------+-------+--------------+------+------+------------------+\n",
      "\n",
      "User 79563's Ratings:\n",
      "+------+-------+------+-------------------+\n",
      "|userId|movieId|rating|          timestamp|\n",
      "+------+-------+------+-------------------+\n",
      "| 79563|  68157|   5.0|2023-10-11 13:43:42|\n",
      "| 79563|  88129|   5.0|2023-10-10 09:59:10|\n",
      "| 79563|  81535|   4.5|2023-10-08 13:39:13|\n",
      "| 79563| 194396|   4.5|2023-09-13 12:14:44|\n",
      "| 79563|  77798|   4.0|2023-10-09 14:38:56|\n",
      "| 79563|   3535|   4.0|2023-10-10 07:29:45|\n",
      "| 79563|   1982|   4.0|2023-09-16 17:45:11|\n",
      "| 79563| 210867|   4.0|2023-09-19 13:35:46|\n",
      "| 79563|  72129|   4.0|2023-10-07 14:53:26|\n",
      "| 79563| 288703|   3.5|2023-09-16 17:46:41|\n",
      "| 79563|   2571|   3.5|2023-09-16 17:46:13|\n",
      "| 79563| 288529|   3.5|2023-10-03 11:57:59|\n",
      "| 79563| 287635|   3.5|2023-09-12 11:59:08|\n",
      "| 79563| 262759|   3.5|2023-09-20 13:17:20|\n",
      "| 79563| 212461|   3.5|2023-09-25 13:21:37|\n",
      "| 79563| 288269|   3.0|2023-10-10 10:02:01|\n",
      "| 79563|   6880|   3.0|2023-09-16 17:45:56|\n",
      "| 79563|    527|   3.0|2023-09-16 17:44:12|\n",
      "| 79563| 279780|   2.5|2023-09-16 17:44:22|\n",
      "| 79563| 210859|   2.5|2023-09-18 12:09:18|\n",
      "+------+-------+------+-------------------+\n",
      "only showing top 20 rows\n",
      "\n",
      "User 79563's Recommendations:\n",
      "+------+-------+--------------+------+------------------------------+------------+\n",
      "|userId|movieId|recommendation|rating|genres                        |title       |\n",
      "+------+-------+--------------+------+------------------------------+------------+\n",
      "|79563 |88129  |4.369813      |5.0   |Crime|Drama|Film-Noir|Thriller|Drive (2011)|\n",
      "+------+-------+--------------+------+------------------------------+------------+\n",
      "\n"
     ]
    }
   ],
   "source": [
    "# Look at user 73645's ratings\n",
    "print(\"User 73645's Ratings:\")\n",
    "ratings_df.filter(F.col(\"userId\") == 73645).sort(\"rating\", ascending = False).show()\n",
    "\n",
    "# Look at the movies recommended to user 73645\n",
    "print(\"User 73645's Recommendations:\")\n",
    "clean_recommendation.filter(F.col(\"userId\") == 73645).show(truncate=False)\n",
    "\n",
    "# Look at user 79563's ratings\n",
    "print(\"User 79563's Ratings:\")\n",
    "ratings_df.filter(F.col(\"userId\") == 79563).sort(\"rating\", ascending = False).show()\n",
    "\n",
    "# Look at the movies recommended to user 79563\n",
    "print(\"User 79563's Recommendations:\")\n",
    "clean_recommendation.filter(F.col(\"userId\") == 79563).show(truncate=False)"
   ]
  },
  {
   "cell_type": "markdown",
   "id": "3f1bfcef-d3b7-45e6-bee3-784106b2fa99",
   "metadata": {},
   "source": [
    "## Close session"
   ]
  },
  {
   "cell_type": "code",
   "execution_count": 26,
   "id": "8ebc4ec7-959d-469e-ae7c-7e706ea129ce",
   "metadata": {},
   "outputs": [],
   "source": [
    "spark.stop()"
   ]
  }
 ],
 "metadata": {
  "kernelspec": {
   "display_name": "Python 3 (ipykernel)",
   "language": "python",
   "name": "python3"
  },
  "language_info": {
   "codemirror_mode": {
    "name": "ipython",
    "version": 3
   },
   "file_extension": ".py",
   "mimetype": "text/x-python",
   "name": "python",
   "nbconvert_exporter": "python",
   "pygments_lexer": "ipython3",
   "version": "3.11.9"
  }
 },
 "nbformat": 4,
 "nbformat_minor": 5
}
